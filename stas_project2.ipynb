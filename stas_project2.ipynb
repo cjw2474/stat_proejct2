{
 "cells": [
  {
   "cell_type": "code",
   "execution_count": 1,
   "id": "dd87ecf8",
   "metadata": {},
   "outputs": [],
   "source": [
    "import pandas as pd\n",
    "import numpy as np\n",
    "import seaborn as sns\n",
    "import matplotlib.pyplot as plt\n",
    "from sklearn.linear_model import LinearRegression, LogisticRegression\n",
    "from sklearn.metrics import r2_score, confusion_matrix, classification_report, roc_curve, auc\n",
    "from scipy import stats\n",
    "from sklearn.decomposition import PCA\n",
    "from sklearn.preprocessing import StandardScaler\n",
    "from sklearn.cluster import KMeans\n",
    "from sklearn.model_selection import cross_val_score\n",
    "import warnings\n",
    "warnings.filterwarnings('ignore')\n",
    "\n",
    "plt.rc('font', family='NanumBarunGothic')\n"
   ]
  },
  {
   "cell_type": "markdown",
   "id": "1c5be29d",
   "metadata": {},
   "source": [
    "# 미션 1: 교육 프로그램의 학습 효과 분석 보고서"
   ]
  },
  {
   "cell_type": "code",
   "execution_count": 2,
   "id": "fa35622b",
   "metadata": {},
   "outputs": [
    {
     "name": "stdout",
     "output_type": "stream",
     "text": [
      "📚 교육 프로그램 데이터 미리보기\n",
      "            count   mean    std\n",
      "group                          \n",
      "Control       150  64.93   9.67\n",
      "SmartLearn    150  70.47  11.29\n"
     ]
    }
   ],
   "source": [
    "np.random.seed(321)\n",
    "n_students = 150\n",
    "control_scores = np.random.normal(65, 10, n_students)\n",
    "smartlearn_scores = np.random.normal(70, 12, n_students)\n",
    "education_data = pd.DataFrame({\n",
    "    'group': ['Control']*n_students + ['SmartLearn']*n_students,\n",
    "    'math_score': np.concatenate([control_scores, smartlearn_scores]),\n",
    "    'student_id': range(1, 2*n_students + 1)\n",
    "})\n",
    "\n",
    "print(\"📚 교육 프로그램 데이터 미리보기\")\n",
    "print(education_data.groupby('group')['math_score'].agg(['count', 'mean', 'std']).round(2))\n"
   ]
  },
  {
   "cell_type": "markdown",
   "id": "a5804b81",
   "metadata": {},
   "source": [
    "### 1. 기본 통계량 비교"
   ]
  },
  {
   "cell_type": "code",
   "execution_count": 17,
   "id": "0f416496",
   "metadata": {},
   "outputs": [
    {
     "name": "stdout",
     "output_type": "stream",
     "text": [
      "대조군 수학 점수: 64.93 ± 9.67\n",
      "SmartLearn 수학 점수: 70.47 ± 11.29\n",
      "평균 점수 차이 : 5.54, 8.53% 향상\n"
     ]
    }
   ],
   "source": [
    "control_mean = education_data[education_data['group'] == 'Control']['math_score'].mean()\n",
    "smartlearn_mean = education_data[education_data['group'] == 'SmartLearn']['math_score'].mean()\n",
    "control_se = education_data[education_data['group'] == 'Control']['math_score'].std()\n",
    "smartlearn_se = education_data[education_data['group'] == 'SmartLearn']['math_score'].std()\n",
    "\n",
    "print(f\"대조군 수학 점수: {control_mean:.2f} ± {control_se:.2f}\")\n",
    "print(f\"SmartLearn 수학 점수: {smartlearn_mean:.2f} ± {smartlearn_se:.2f}\")\n",
    "print(f\"평균 점수 차이 : {smartlearn_mean - control_mean:.2f}, {(smartlearn_mean - control_mean)/control_mean *100:.2f}% 향상\")"
   ]
  },
  {
   "cell_type": "markdown",
   "id": "5d23dee6",
   "metadata": {},
   "source": [
    "### 2. 통계적 유의성 검증"
   ]
  },
  {
   "cell_type": "code",
   "execution_count": 13,
   "id": "120f5e0d",
   "metadata": {},
   "outputs": [
    {
     "name": "stdout",
     "output_type": "stream",
     "text": [
      "t-통계량: 4.565\n",
      "p-value: 0.0000\n",
      "✅ SmartLearn 프로그램은 대조군과 유의미한 성적 차이를 보입니다!\n"
     ]
    }
   ],
   "source": [
    "control_group = education_data[education_data['group'] == 'Control']['math_score']\n",
    "smartlearn_group = education_data[education_data['group'] == 'SmartLearn']['math_score']\n",
    "t_stat, p_value = stats.ttest_ind(smartlearn_group, control_group)\n",
    "\n",
    "print(f\"t-통계량: {t_stat:.3f}\")\n",
    "print(f\"p-value: {p_value:.4f}\")\n",
    "alpha = 0.05\n",
    "if p_value < alpha:\n",
    "    print(\"✅ SmartLearn 프로그램은 대조군과 유의미한 성적 차이를 보입니다!\")\n",
    "else:\n",
    "    print(\"❌ SmartLearn 프로그램의 효과가 유의미하지 않습니다.\")\n"
   ]
  },
  {
   "cell_type": "markdown",
   "id": "00604609",
   "metadata": {},
   "source": [
    "### 3. 효과 크기 평가"
   ]
  },
  {
   "cell_type": "code",
   "execution_count": 14,
   "id": "5b741e86",
   "metadata": {},
   "outputs": [
    {
     "name": "stdout",
     "output_type": "stream",
     "text": [
      "Cohen's d: 0.527\n",
      "→ 중간 효과크기 (교육적으로 의미있는 수준)\n"
     ]
    }
   ],
   "source": [
    "control_std = education_data[education_data['group'] == 'Control']['math_score'].std()\n",
    "smartlearn_std = education_data[education_data['group'] == 'SmartLearn']['math_score'].std()\n",
    "pooled_std = np.sqrt(((n_students-1)*control_std**2 + (n_students-1)*smartlearn_std**2)/(2*n_students-2))\n",
    "cohens_d = (smartlearn_mean - control_mean) / pooled_std\n",
    "\n",
    "print(f\"Cohen's d: {cohens_d:.3f}\")\n",
    "if cohens_d > 0.8:\n",
    "    print(\"→ 큰 효과크기 (학부모가 명확히 체감할 수 있는 수준)\")\n",
    "elif cohens_d > 0.5:\n",
    "    print(\"→ 중간 효과크기 (교육적으로 의미있는 수준)\")\n",
    "else:\n",
    "    print(\"→ 작은 효과크기 (미미한 개선 수준)\")\n"
   ]
  },
  {
   "cell_type": "markdown",
   "id": "cf59179e",
   "metadata": {},
   "source": [
    "### 4. 결과 시각화"
   ]
  },
  {
   "cell_type": "code",
   "execution_count": 11,
   "id": "cf5035a9",
   "metadata": {},
   "outputs": [
    {
     "data": {
      "image/png": "[encoded data removed]",
      "text/plain": [
       "<Figure size 576x432 with 1 Axes>"
      ]
     },
     "metadata": {
      "needs_background": "light"
     },
     "output_type": "display_data"
    }
   ],
   "source": [
    "plt.figure(figsize=(8, 6))\n",
    "groups = ['Control', 'SmartLearn']\n",
    "means = [control_mean, smartlearn_mean]\n",
    "errors = [1.96 * control_se, 1.96 * smartlearn_se]\n",
    "plt.bar(groups, means, yerr=errors, capsize=10, alpha=0.7)\n",
    "plt.ylabel('수학 점수')\n",
    "plt.title('SmartLearn vs 대조군 수학 점수 비교 (95% 신뢰구간)')\n",
    "plt.ylim(0, 100)  # 점수 범위에 맞게 조정\n",
    "plt.show()\n"
   ]
  },
  {
   "cell_type": "markdown",
   "id": "f9b1d363",
   "metadata": {},
   "source": [
    "### 5. p-해킹 방지 방안\n",
    "\n",
    "📋 p-해킹 방지 방안\n",
    "1. 사전 등록: 연구 계획을 Open Science Framework(OSF)에 등록하여 분석 계획을 투명하게 공개.\n",
    "2. 다중비교 보정: Bonferroni 또는 FDR 방법을 적용하여 다중 검정으로 인한 오류를 최소화.\n",
    "3. 독립적 데이터 검증 및 재현성 강화:\n",
    "분석 결과를 제3자가 동일한 데이터와 코드를 사용하여 재현할 수 있도록 데이터셋과 분석 코드를 공개하고, 독립적인 연구팀을 통해 결과 검증\n"
   ]
  },
  {
   "cell_type": "markdown",
   "id": "63312f61",
   "metadata": {},
   "source": [
    "### 6. 베이즈 인수 계산"
   ]
  },
  {
   "cell_type": "code",
   "execution_count": 12,
   "id": "d03769dd",
   "metadata": {},
   "outputs": [
    {
     "name": "stdout",
     "output_type": "stream",
     "text": [
      "베이즈 인수 (BF₁₀): 1934.97\n",
      "→ 강한 증거 (H1 지지: SmartLearn 효과가 매우 확실)\n"
     ]
    }
   ],
   "source": [
    "# 베이즈 인수 계산 (BIC 기반 근사)\n",
    "# 대립가설(H1): SmartLearn 효과 있음 vs 귀무가설(H0): 효과 없음\n",
    "n_total = 2 * n_students\n",
    "bic_diff = t_stat**2 - np.log(n_total)\n",
    "bf_10 = np.exp(bic_diff / 2)\n",
    "\n",
    "print(f\"베이즈 인수 (BF₁₀): {bf_10:.2f}\")\n",
    "if bf_10 > 10:\n",
    "    print(\"→ 강한 증거 (H1 지지: SmartLearn 효과가 매우 확실)\")\n",
    "elif bf_10 > 3:\n",
    "    print(\"→ 중간 증거 (H1 지지: SmartLearn 효과가 있을 가능성 높음)\")\n",
    "elif bf_10 > 1:\n",
    "    print(\"→ 약한 증거 (H1 약간 지지)\")\n",
    "elif bf_10 > 0.33:\n",
    "    print(\"→ 불분명한 증거 (결론 내리기 어려움)\")\n",
    "elif bf_10 > 0.1:\n",
    "    print(\"→ 중간 증거 (H0 지지: SmartLearn 효과 의심스러움)\")\n",
    "else:\n",
    "    print(\"→ 강한 증거 (H0 지지: SmartLearn 효과 없음)\")"
   ]
  },
  {
   "cell_type": "markdown",
   "id": "b1e8b3df",
   "metadata": {},
   "source": [
    "### 7. 경영진 보고서 작성\n",
    "\n",
    "📋 경영진 보고서: SmartLearn 프로그램 효과 검증\n",
    "==================================================\n",
    "\n",
    "🎯 핵심 결과\n",
    "- 대조군 수학 점수: 64.93 ± 9.67\n",
    "- SmartLearn 수학 점수: 70.47 ± 11.29\n",
    "- 점수 향상: 5.54 점 (약 [8.53%] 향상)\n",
    "- 효과크기 (Cohen's d): 0.527\n",
    "- p-value: 0.00\n",
    "- 베이즈 인수: 1934.97\n",
    "\n",
    "##### 💡 비즈니스 결론 및 권장사항:\n",
    "\n",
    "1. 상용화 추진 및 시장 선점\n",
    "\n",
    "    SmartLearn은 전통적 학습 방식 대비 **평균 5.54점, 약 8.5%** 의 성적 향상 효과를 보여 과학적으로 효과가 입증되었음.\n",
    "\n",
    "    경쟁사 출시 전에 전국 단위 상용화의 조속한 추진 및 ‘AI 기반 학습 혁신’이라는 포지셔닝으로 프리미엄 시장 점유율 확보 필요\n",
    "\n",
    "2. 마케팅 전략\n",
    "\n",
    "    투자자 미팅에서는 통계적 유의성과 효과 크기, 베이즈 접근을 통한 높은 확신도를 강조하여 기술적 우위를 설명하고,\n",
    "\n",
    "    학부모 대상 마케팅에서는 “전통 교육 대비 평균 8.5% 향상”과 AI 개인 맞춤 학습의 장점을 구체적 사례와 함께 홍보하여 경쟁 우위 선점\n",
    "\n",
    "3. 투자 방향\n",
    "\n",
    "    이번 시범 운영 데이터를 기반으로 장기 추적 연구와 **다른 과목(과학, 영어)** 에 대한 효과 검증을 진행하여 제품 신뢰도 높이기\n",
    "\n",
    "4. 교육부 보고서 대응\n",
    "\n",
    "    이번 분석은 p-해킹 방지 조치(사전 분석 계획, 다중비교 보정, 효과 크기 보고 등)를 포함해 학계의 재현성 위기를 고려한 엄격한 방법론을 사용했으며,\n",
    "\n",
    "    보고서에 평균 차이, 효과 크기, 신뢰구간(95% CI), 베이즈 인수를 포함해 교육부에 제출함으로써 객관적 신뢰도를 강화하였음.\n",
    "\n",
    "##### ⚠️ 리스크 및 제한사항:\n",
    "\n",
    "1. 표본 및 지역 제한: 300명, 3개 도시만을 대상으로 해 전국 모든 학생을 대상으로 한 일반화의 어려움\n",
    "\n",
    "2. 장기 효과 미확인: 6개월 시범 운영이므로 장기적 학습 지속 효과와 대학 입시 성적 반영 여부에 대한 추가 검증 필요\n",
    "\n",
    "3. 비인지적 영향 미측정: 성적 외에도 학습 흥미, 집중력, 심리적 부담 등 비인지적 요인의 변화 미평가\n",
    "\n",
    "4. 알고리즘 편향 가능성: AI 추천 시스템의 특정 학습자 그룹에 대한 편향이 있는지 검토 필요\n",
    "\n",
    "5. 재현성 검증 필요: 다른 연구팀에 의한 독립적 검증이 필요하며, 데이터와 분석 코드를 공개하여 투명성 확보 필요"
   ]
  },
  {
   "cell_type": "markdown",
   "id": "adcc32ec",
   "metadata": {},
   "source": [
    "# 미션 2: 마케팅 캠페인 효과 분석 보고서"
   ]
  },
  {
   "cell_type": "code",
   "execution_count": 18,
   "id": "ca0d4209",
   "metadata": {},
   "outputs": [
    {
     "name": "stdout",
     "output_type": "stream",
     "text": [
      "📢 마케팅 데이터 미리보기\n",
      "             count    mean    std\n",
      "ad_exposure                      \n",
      "0              386  124.60  22.35\n",
      "1              614  175.32  21.69\n"
     ]
    }
   ],
   "source": [
    "np.random.seed(456)\n",
    "n_customers = 1000\n",
    "ad_exposure = np.random.binomial(1, 0.6, n_customers)\n",
    "ages = np.random.randint(20, 60, n_customers)\n",
    "income = np.random.lognormal(np.log(50000), 0.4, n_customers)\n",
    "purchase_amount = 100 + 50*ad_exposure + 0.5*ages + 0.0001*income + np.random.normal(0, 20, n_customers)\n",
    "data_marketing = pd.DataFrame({\n",
    "    'ad_exposure': ad_exposure,\n",
    "    'age': ages,\n",
    "    'income': income,\n",
    "    'purchase_amount': purchase_amount\n",
    "})\n",
    "\n",
    "print(\"📢 마케팅 데이터 미리보기\")\n",
    "print(data_marketing.groupby('ad_exposure')['purchase_amount'].agg(['count', 'mean', 'std']).round(2))\n"
   ]
  },
  {
   "cell_type": "markdown",
   "id": "59e1f6ae",
   "metadata": {},
   "source": [
    "### 1. 상관관계 탐색"
   ]
  },
  {
   "cell_type": "code",
   "execution_count": 19,
   "id": "9cb5a89c",
   "metadata": {},
   "outputs": [
    {
     "name": "stdout",
     "output_type": "stream",
     "text": [
      "📊 상관계수 매트릭스\n",
      "                 ad_exposure    age  income  purchase_amount\n",
      "ad_exposure            1.000  0.018  -0.050            0.748\n",
      "age                    0.018  1.000  -0.034            0.203\n",
      "income                -0.050 -0.034   1.000            0.046\n",
      "purchase_amount        0.748  0.203   0.046            1.000\n"
     ]
    },
    {
     "data": {
      "image/png": "[encoded data removed]",
      "text/plain": [
       "<Figure size 576x432 with 2 Axes>"
      ]
     },
     "metadata": {
      "needs_background": "light"
     },
     "output_type": "display_data"
    }
   ],
   "source": [
    "correlation_matrix = data_marketing.corr()\n",
    "print(\"📊 상관계수 매트릭스\")\n",
    "print(correlation_matrix.round(3))\n",
    "\n",
    "# 히트맵으로 시각화\n",
    "plt.figure(figsize=(8, 6))\n",
    "sns.heatmap(correlation_matrix, annot=True, cmap='coolwarm', center=0)\n",
    "plt.title('고객 특성 및 광고 노출과 구매 금액 간 상관관계')\n",
    "plt.show()\n"
   ]
  },
  {
   "cell_type": "markdown",
   "id": "c508fb18",
   "metadata": {},
   "source": [
    "### 2. 단순 비교와 한계"
   ]
  },
  {
   "cell_type": "code",
   "execution_count": 21,
   "id": "e622b37b",
   "metadata": {},
   "outputs": [
    {
     "name": "stdout",
     "output_type": "stream",
     "text": [
      "광고 노출 그룹 구매 금액: 175.32원\n",
      "광고 비노출 그룹 구매 금액: 124.60원\n",
      "단순 차이: 50.72원\n",
      "⚠️ 주의사항: 연령, 소득 등의 중첩요인을 통제하지 않아 광고의 순수한 효과를 정확히 측정하기 어려움\n",
      "   → 예: 고소득층에게 광고가 더 많이 노출되었다면 차이가 과대평가될 수 있음\n"
     ]
    }
   ],
   "source": [
    "exposed_mean = data_marketing[data_marketing['ad_exposure'] == 1]['purchase_amount'].mean()\n",
    "non_exposed_mean = data_marketing[data_marketing['ad_exposure'] == 0]['purchase_amount'].mean()\n",
    "simple_difference = exposed_mean - non_exposed_mean\n",
    "\n",
    "print(f\"광고 노출 그룹 구매 금액: {exposed_mean:.2f}원\")\n",
    "print(f\"광고 비노출 그룹 구매 금액: {non_exposed_mean:.2f}원\")\n",
    "print(f\"단순 차이: {simple_difference:.2f}원\")\n",
    "print(\"⚠️ 주의사항: 연령, 소득 등의 중첩요인을 통제하지 않아 광고의 순수한 효과를 정확히 측정하기 어려움\")\n",
    "print(\"   → 예: 고소득층에게 광고가 더 많이 노출되었다면 차이가 과대평가될 수 있음\")\n"
   ]
  },
  {
   "cell_type": "markdown",
   "id": "5828320d",
   "metadata": {},
   "source": [
    "### 3. 다중회귀분석"
   ]
  },
  {
   "cell_type": "code",
   "execution_count": 32,
   "id": "8f9274c2",
   "metadata": {},
   "outputs": [
    {
     "name": "stdout",
     "output_type": "stream",
     "text": [
      "📊 회귀계수 분석 결과\n",
      "      변수      계수                해석\n",
      "0  광고 노출  50.792     광고 노출시 구매액 증가\n",
      "1     연령   0.548  연령 1세 증가시 구매액 변화\n",
      "2     소득   0.000  소득 1원 증가시 구매액 변화\n",
      "\n",
      "🎯 핵심 결과: 광고 효과 = 50.79원 (다른 조건이 동일할 때)\n"
     ]
    }
   ],
   "source": [
    "X = data_marketing[['ad_exposure', 'age', 'income']]\n",
    "y = data_marketing['purchase_amount']\n",
    "model = LinearRegression()\n",
    "# 모델 학습 코드 작성\n",
    "model.fit(X, y)\n",
    "\n",
    "coeffs = pd.DataFrame({\n",
    "    '변수': ['광고 노출', '연령', '소득'],\n",
    "    '계수': model.coef_,\n",
    "    '해석': ['광고 노출시 구매액 증가', '연령 1세 증가시 구매액 변화', '소득 1원 증가시 구매액 변화']\n",
    "})\n",
    "print(\"📊 회귀계수 분석 결과\")\n",
    "print(coeffs.round(3))\n",
    "ad_effect = coeffs.loc[coeffs['변수'] == '광고 노출', '계수'].values[0]\n",
    "print(f\"\\n🎯 핵심 결과: 광고 효과 = {ad_effect:.2f}원 (다른 조건이 동일할 때)\")\n"
   ]
  },
  {
   "cell_type": "markdown",
   "id": "e6f68640",
   "metadata": {},
   "source": [
    "### 4. 모델 신뢰도 평가"
   ]
  },
  {
   "cell_type": "code",
   "execution_count": 33,
   "id": "cd92911d",
   "metadata": {},
   "outputs": [
    {
     "name": "stdout",
     "output_type": "stream",
     "text": [
      "5-폴드 교차검증 R²: 0.599 ± 0.024\n",
      "모델 설명력: 59.9% (구매 금액 변동의 약 60%를 설명)\n",
      "→ 중간 예측 성능 (참고용으로 활용 가능)\n"
     ]
    }
   ],
   "source": [
    "from sklearn.model_selection import cross_val_score, KFold\n",
    "\n",
    "# 5-폴드 설정\n",
    "kf = KFold(n_splits=5, shuffle=True, random_state=42)\n",
    "\n",
    "# 교차검증 수행\n",
    "cv_scores = cross_val_score(model, X, y, cv=kf, scoring='r2')\n",
    "\n",
    "print(f\"5-폴드 교차검증 R²: {cv_scores.mean():.3f} ± {cv_scores.std():.3f}\")\n",
    "print(f\"모델 설명력: {cv_scores.mean()*100:.1f}% (구매 금액 변동의 약 {cv_scores.mean()*100:.0f}%를 설명)\")\n",
    "\n",
    "if cv_scores.mean() > 0.7:\n",
    "    print(\"→ 높은 예측 성능 (신뢰할 만한 모델)\")\n",
    "elif cv_scores.mean() > 0.5:\n",
    "    print(\"→ 중간 예측 성능 (참고용으로 활용 가능)\")\n",
    "else:\n",
    "    print(\"→ 낮은 예측 성능 (추가 변수 필요)\")\n"
   ]
  },
  {
   "cell_type": "markdown",
   "id": "49f72040",
   "metadata": {},
   "source": [
    "### 5. 인과관계 해석"
   ]
  },
  {
   "cell_type": "code",
   "execution_count": 35,
   "id": "06f7701d",
   "metadata": {},
   "outputs": [
    {
     "name": "stdout",
     "output_type": "stream",
     "text": [
      "📋 인과관계 해석 및 ROI 분석\n",
      "✅ 광고는 개인당 구매 금액을 평균 50.79원 증가시킵니다.\n",
      "   총 광고 노출: 614명\n",
      "   예상 총 매출 증대: 31,186원\n",
      "   광고 ROI: -100.0%\n",
      "   → 광고 투자 대비 손실\n",
      "\n",
      "⚠️ 주의사항:\n",
      "1. 관찰 데이터 분석이므로 미측정 중첩요인(브랜드 인지도, 계절성 등) 존재 가능\n",
      "2. 광고의 장기적 효과(브랜드 이미지 개선 등)는 측정되지 않음\n",
      "3. 무작위 통제 실험이 아니므로 인과관계 해석에 신중함 필요\n"
     ]
    }
   ],
   "source": [
    "ad_effect = model.coef_[0]\n",
    "total_ad_exposed = data_marketing['ad_exposure'].sum()\n",
    "total_revenue_increase = ad_effect * total_ad_exposed\n",
    "ad_cost = 200_000_000  # 광고비 2억원\n",
    "roi = (total_revenue_increase / ad_cost - 1) * 100\n",
    "\n",
    "print(\"📋 인과관계 해석 및 ROI 분석\")\n",
    "if ad_effect > 0:\n",
    "    print(f\"✅ 광고는 개인당 구매 금액을 평균 {ad_effect:.2f}원 증가시킵니다.\")\n",
    "    print(f\"   총 광고 노출: {total_ad_exposed:,}명\")\n",
    "    print(f\"   예상 총 매출 증대: {total_revenue_increase:,.0f}원\")\n",
    "    print(f\"   광고 ROI: {roi:.1f}%\")\n",
    "    if roi > 0:\n",
    "        print(\"   → 광고 투자 대비 양의 수익 창출\")\n",
    "    else:\n",
    "        print(\"   → 광고 투자 대비 손실\")\n",
    "else:\n",
    "    print(\"❌ 광고 효과가 없거나 부정적입니다.\")\n",
    "\n",
    "print(\"\\n⚠️ 주의사항:\")\n",
    "print(\"1. 관찰 데이터 분석이므로 미측정 중첩요인(브랜드 인지도, 계절성 등) 존재 가능\")\n",
    "print(\"2. 광고의 장기적 효과(브랜드 이미지 개선 등)는 측정되지 않음\")\n",
    "print(\"3. 무작위 통제 실험이 아니므로 인과관계 해석에 신중함 필요\")\n"
   ]
  },
  {
   "cell_type": "markdown",
   "id": "0d863be5",
   "metadata": {},
   "source": [
    "### 6. 결과 시각화"
   ]
  },
  {
   "cell_type": "code",
   "execution_count": 37,
   "id": "a1aca313",
   "metadata": {},
   "outputs": [
    {
     "data": {
      "image/png": "[encoded data removed]",
      "text/plain": [
       "<Figure size 720x432 with 1 Axes>"
      ]
     },
     "metadata": {
      "needs_background": "light"
     },
     "output_type": "display_data"
    }
   ],
   "source": [
    "plt.figure(figsize=(10, 6))\n",
    "sns.boxplot(x='ad_exposure', y='purchase_amount', data=data_marketing)\n",
    "plt.xticks([0, 1], ['광고 비노출', '광고 노출'])\n",
    "plt.ylabel('구매 금액 (원)')\n",
    "plt.title('Summer Sale 캠페인: 광고 노출 여부에 따른 구매 금액 분포')\n",
    "\n",
    "# 평균값 표시\n",
    "means = data_marketing.groupby('ad_exposure')['purchase_amount'].mean()\n",
    "for i, mean_val in enumerate(means):\n",
    "    plt.text(i, mean_val + 5, f'평균: {mean_val:.0f}원', ha='center', va='bottom', fontweight='bold')\n",
    "plt.show()\n"
   ]
  },
  {
   "cell_type": "markdown",
   "id": "a6391474",
   "metadata": {},
   "source": [
    "### 7. 경영진 보고서 작성\n",
    "\n",
    "📋 경영진 보고서: Summer Mega Sale 캠페인 효과 분석\n",
    "==================================================\n",
    "🎯 핵심 성과 지표\n",
    "- 광고 노출 그룹 평균 구매 금액: 175.32원\n",
    "- 광고 비노출 그룹 평균 구매 금액: 124.60원\n",
    "- 순수 광고 효과 (통제 후): 50.79원\n",
    "- 모델 설명력 (R²): 59.9%\n",
    "- 광고 ROI: -100.0%\n",
    "\n",
    "##### 💡 전략적 권장사항:\n",
    "\n",
    "1. 추석 캠페인 전략 최적화\n",
    "\n",
    "    Summer Mega Sale 결과 ROI가 음수로 나타난 만큼, 9월 추석 캠페인에서는 단순 광고 노출보다 구매 전환율이 높은 타겟층(고소득·30~40대)을 중심으로 맞춤형 캠페인을 설계.\n",
    "\n",
    "2. 예산 재배분\n",
    "\n",
    "    광고 집행 규모를 20~30% 축소하고, 대신 리타게팅 광고·추천 알고리즘 강화·할인 쿠폰 발급에 예산을 집중.\n",
    "\n",
    "3. 채널별 성과 기반 타겟팅\n",
    "\n",
    "    Summer 캠페인에서 상대적으로 높은 클릭률이 확인된 모바일·SNS 광고를 분석하여 추석 캠페인에서는 이 채널에 예산을 집중 투입.\n",
    "\n",
    "##### ⚠️ 리스크 요소:\n",
    "\n",
    "- 관찰 데이터의 한계: 실험이 아닌 관찰 데이터 기반이므로 광고 효과에 대한 인과적 추론이 제한적임.\n",
    "\n",
    "- 장기 효과 미측정: 캠페인 종료 후 재구매율 및 충성 고객 형성 여부에 대한 장기적 영향이 검증되지 않음.\n",
    "\n",
    "- 시즌성 편향: Summer 시즌 특수 상황(휴가, 세일 경쟁 심화)이 결과에 영향을 미쳤을 수 있어 추석 시즌에 동일한 패턴이 반복되지 않을 가능성 있음.\n",
    "\n",
    "##### 📅 향후 액션 아이템:\n",
    "\n",
    "1. A/B 테스트 도입\n",
    "\n",
    "    추석 캠페인에서는 광고 노출/비노출 무작위 실험을 진행해 광고 효과를 과학적으로 검증.\n",
    "\n",
    "2. 추가 데이터 수집 및 세분화 분석\n",
    "\n",
    "    고객 연령, 지역, 구매 패턴 데이터를 추가로 수집하여 세분화된 고객군별 광고 반응 분석 실시.\n",
    "\n",
    "3. 비용-효과 최적화 모델 구축\n",
    "\n",
    "    머신러닝 기반의 광고비 지출 대비 매출 예측 모델을 개발해 예산 배분을 데이터 기반으로 최적화."
   ]
  },
  {
   "cell_type": "markdown",
   "id": "91dc929b",
   "metadata": {},
   "source": [
    "# 미션 3: 고객 세분화 및 예측 모델링 보고서"
   ]
  },
  {
   "cell_type": "code",
   "execution_count": null,
   "id": "74a908c1",
   "metadata": {},
   "outputs": [],
   "source": []
  },
  {
   "cell_type": "markdown",
   "id": "649f57c0",
   "metadata": {},
   "source": []
  },
  {
   "cell_type": "code",
   "execution_count": null,
   "id": "0d5ae86c",
   "metadata": {},
   "outputs": [],
   "source": []
  },
  {
   "cell_type": "markdown",
   "id": "30aec6d4",
   "metadata": {},
   "source": []
  },
  {
   "cell_type": "code",
   "execution_count": null,
   "id": "017125af",
   "metadata": {},
   "outputs": [],
   "source": []
  },
  {
   "cell_type": "markdown",
   "id": "b7e0381e",
   "metadata": {},
   "source": []
  },
  {
   "cell_type": "code",
   "execution_count": null,
   "id": "43f00219",
   "metadata": {},
   "outputs": [],
   "source": []
  },
  {
   "cell_type": "markdown",
   "id": "7a062a0e",
   "metadata": {},
   "source": []
  },
  {
   "cell_type": "code",
   "execution_count": null,
   "id": "92e49082",
   "metadata": {},
   "outputs": [],
   "source": []
  },
  {
   "cell_type": "markdown",
   "id": "a5afd003",
   "metadata": {},
   "source": []
  },
  {
   "cell_type": "code",
   "execution_count": null,
   "id": "412a509e",
   "metadata": {},
   "outputs": [],
   "source": []
  },
  {
   "cell_type": "markdown",
   "id": "de9fef37",
   "metadata": {},
   "source": []
  },
  {
   "cell_type": "code",
   "execution_count": null,
   "id": "8ccc8150",
   "metadata": {},
   "outputs": [],
   "source": []
  },
  {
   "cell_type": "markdown",
   "id": "0190ae60",
   "metadata": {},
   "source": []
  },
  {
   "cell_type": "code",
   "execution_count": null,
   "id": "27c66fd0",
   "metadata": {},
   "outputs": [],
   "source": []
  }
 ],
 "metadata": {
  "kernelspec": {
   "display_name": "Python 3 (ipykernel)",
   "language": "python",
   "name": "python3"
  },
  "language_info": {
   "codemirror_mode": {
    "name": "ipython",
    "version": 3
   },
   "file_extension": ".py",
   "mimetype": "text/x-python",
   "name": "python",
   "nbconvert_exporter": "python",
   "pygments_lexer": "ipython3",
   "version": "3.12.7"
  }
 },
 "nbformat": 4,
 "nbformat_minor": 5
}
